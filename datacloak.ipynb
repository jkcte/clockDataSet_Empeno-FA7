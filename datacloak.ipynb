{
 "cells": [
  {
   "cell_type": "code",
   "execution_count": 9,
   "metadata": {},
   "outputs": [
    {
     "name": "stdout",
     "output_type": "stream",
     "text": [
      "   Participant  Cloak  Mischief\n",
      "0            1      0         3\n",
      "1            2      0         1\n",
      "2            3      0         5\n",
      "3            4      0         4\n",
      "4            5      0         6\n",
      "Index(['Participant', 'Cloak', 'Mischief'], dtype='object')\n",
      "[0 1]\n",
      "Cloak\n",
      "0    12\n",
      "1    12\n",
      "Name: count, dtype: int64\n",
      "[ 1  2  3  4  5  6  7  8  9 10 11 12 13 14 15 16 17 18 19 20 21 22 23 24]\n"
     ]
    }
   ],
   "source": [
    "import pandas as pd\n",
    "\n",
    "cloak = pd.read_csv('Invisibility Cloak.csv')\n",
    "print(cloak.head())\n",
    "print(cloak.columns)\n",
    "print(cloak['Cloak'].unique())\n",
    "print(cloak['Cloak'].value_counts())\n",
    "print(cloak['Participant'].unique())"
   ]
  },
  {
   "cell_type": "markdown",
   "metadata": {},
   "source": [
    "It is continuous and theres two categorical and independent group assuming that participant id represent an individual."
   ]
  },
  {
   "cell_type": "code",
   "execution_count": 10,
   "metadata": {},
   "outputs": [
    {
     "data": {
      "image/png": "[encoded data removed]",
      "text/plain": [
       "<Figure size 1000x600 with 1 Axes>"
      ]
     },
     "metadata": {},
     "output_type": "display_data"
    }
   ],
   "source": [
    "import seaborn as sns\n",
    "\n",
    "import matplotlib.pyplot as plt\n",
    "\n",
    "plt.figure(figsize=(10, 6))\n",
    "sns.boxplot(x='Cloak', y='Mischief', data=cloak)\n",
    "plt.title('Box Plot of Mischief by Cloak')\n",
    "plt.xlabel('Cloak')\n",
    "plt.ylabel('Mischief')\n",
    "plt.show()"
   ]
  },
  {
   "cell_type": "markdown",
   "metadata": {},
   "source": [
    "There is no significant outliers assessed by visual insepctions"
   ]
  },
  {
   "cell_type": "code",
   "execution_count": 18,
   "metadata": {},
   "outputs": [
    {
     "name": "stdout",
     "output_type": "stream",
     "text": [
      "Shapiro-Wilk Test Statistic for with cloak: 0.9726166907872743, p-value: 0.9361892037703956\n",
      "Shapiro-Wilk Test Statistic for without cloak: 0.9127634937409543, p-value: 0.23144590729532177\n"
     ]
    }
   ],
   "source": [
    "from scipy.stats import shapiro\n",
    "\n",
    "with_cloak = cloak[cloak['Cloak'] == 1]\n",
    "without_cloak = cloak[cloak['Cloak'] == 0]\n",
    "\n",
    "sorted_without_mischief = without_cloak['Mischief'].sort_values()\n",
    "sorted_with_mischief = with_cloak['Mischief'].sort_values()\n",
    "\n",
    "\n",
    "statWithCloak, p_valueWithCloak = shapiro(sorted_with_mischief)\n",
    "statWithoutCloak, p_valueWithoutCloak = shapiro(sorted_without_mischief)\n",
    "\n",
    "print(f\"Shapiro-Wilk Test Statistic for with cloak: {statWithCloak}, p-value: {p_valueWithCloak}\")\n",
    "print(f\"Shapiro-Wilk Test Statistic for without cloak: {statWithoutCloak}, p-value: {p_valueWithoutCloak}\")\n"
   ]
  },
  {
   "cell_type": "markdown",
   "metadata": {},
   "source": [
    "The p-value is greater than 0.05 assuming that the allowable error is 5% thus it is normal"
   ]
  },
  {
   "cell_type": "code",
   "execution_count": 19,
   "metadata": {},
   "outputs": [
    {
     "name": "stdout",
     "output_type": "stream",
     "text": [
      "t-statistic: Participant    3.226990\n",
      "Cloak               inf\n",
      "Mischief       6.511146\n",
      "dtype: float64, p-value: [3.87728042e-03 0.00000000e+00 1.50269878e-06]\n"
     ]
    },
    {
     "name": "stderr",
     "output_type": "stream",
     "text": [
      "d:\\GITHUB\\clockDataSet_Empeno-FA7\\env\\Lib\\site-packages\\numpy\\_core\\fromnumeric.py:4316: FutureWarning: The behavior of DataFrame.var with axis=None is deprecated, in a future version this will reduce over both axes and return a scalar. To retain the old behavior, pass axis=0 (or do not pass axis)\n",
      "  return var(axis=axis, dtype=dtype, out=out, ddof=ddof, **kwargs)\n"
     ]
    }
   ],
   "source": [
    "import numpy as np\n",
    "from scipy.stats import t\n",
    "\n",
    "\n",
    "mean_with_cloak = np.mean(with_cloak)\n",
    "mean_without_cloak = np.mean(without_cloak)\n",
    "\n",
    "\n",
    "var_with_cloak = np.var(with_cloak, ddof=1)\n",
    "var_without_cloak = np.var(without_cloak, ddof=1)\n",
    "\n",
    "\n",
    "n_with_cloak = len(with_cloak)\n",
    "n_without_cloak = len(without_cloak)\n",
    "pooled_std = np.sqrt(((n_with_cloak - 1) * var_with_cloak + (n_without_cloak - 1) * var_without_cloak) / (n_with_cloak + n_without_cloak - 2))\n",
    "\n",
    "\n",
    "t_stat = (mean_with_cloak - mean_without_cloak) / (pooled_std * np.sqrt(1/n_with_cloak + 1/n_without_cloak))\n",
    "\n",
    "\n",
    "df = n_with_cloak + n_without_cloak - 2\n",
    "\n",
    "p_value = 2 * t.sf(np.abs(t_stat), df)\n",
    "\n",
    "print(f\"t-statistic: {t_stat}, p-value: {p_value}\")"
   ]
  }
 ],
 "metadata": {
  "kernelspec": {
   "display_name": "env",
   "language": "python",
   "name": "python3"
  },
  "language_info": {
   "codemirror_mode": {
    "name": "ipython",
    "version": 3
   },
   "file_extension": ".py",
   "mimetype": "text/x-python",
   "name": "python",
   "nbconvert_exporter": "python",
   "pygments_lexer": "ipython3",
   "version": "3.12.4"
  }
 },
 "nbformat": 4,
 "nbformat_minor": 2
}
